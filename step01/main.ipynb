{
 "cells": [
  {
   "cell_type": "code",
   "execution_count": 6,
   "metadata": {},
   "outputs": [
    {
     "name": "stdout",
     "output_type": "stream",
     "text": [
      "<class 'str'>\n"
     ]
    }
   ],
   "source": [
    "student_name : str = '''Ali'''\n",
    "print(type(student_name))"
   ]
  },
  {
   "cell_type": "code",
   "execution_count": 8,
   "metadata": {},
   "outputs": [
    {
     "ename": "TypeError",
     "evalue": "can only concatenate str (not \"int\") to str",
     "output_type": "error",
     "traceback": [
      "\u001b[1;31m---------------------------------------------------------------------------\u001b[0m",
      "\u001b[1;31mTypeError\u001b[0m                                 Traceback (most recent call last)",
      "\u001b[1;32md:\\Learn Python\\step01\\main.ipynb Cell 2\u001b[0m line \u001b[0;36m5\n\u001b[0;32m      <a href='vscode-notebook-cell:/d%3A/Learn%20Python/step01/main.ipynb#W1sZmlsZQ%3D%3D?line=1'>2</a>\u001b[0m fname : \u001b[39mstr\u001b[39m \u001b[39m=\u001b[39m \u001b[39m\"\u001b[39m\u001b[39mNadeem Akhter\u001b[39m\u001b[39m\"\u001b[39m\n\u001b[0;32m      <a href='vscode-notebook-cell:/d%3A/Learn%20Python/step01/main.ipynb#W1sZmlsZQ%3D%3D?line=2'>3</a>\u001b[0m age : \u001b[39mint\u001b[39m \u001b[39m=\u001b[39m \u001b[39m22\u001b[39m\n\u001b[1;32m----> <a href='vscode-notebook-cell:/d%3A/Learn%20Python/step01/main.ipynb#W1sZmlsZQ%3D%3D?line=4'>5</a>\u001b[0m card : \u001b[39mstr\u001b[39m \u001b[39m=\u001b[39m \u001b[39m\"\u001b[39;49m\u001b[39mPIAIC Student Card\u001b[39;49m\u001b[39m\\n\u001b[39;49;00m\u001b[39mStudent Name: \u001b[39;49m\u001b[39m\"\u001b[39;49m \u001b[39m+\u001b[39;49m name \u001b[39m+\u001b[39;49m \u001b[39m\"\u001b[39;49m\u001b[39m\\n\u001b[39;49;00m\u001b[39mAge:\u001b[39;49m\u001b[39m\"\u001b[39;49m \u001b[39m+\u001b[39;49m age\n\u001b[0;32m      <a href='vscode-notebook-cell:/d%3A/Learn%20Python/step01/main.ipynb#W1sZmlsZQ%3D%3D?line=6'>7</a>\u001b[0m \u001b[39mprint\u001b[39m(card)\n",
      "\u001b[1;31mTypeError\u001b[0m: can only concatenate str (not \"int\") to str"
     ]
    }
   ],
   "source": [
    "name : str = \"Muhammad Rafi Ali\"\n",
    "fname : str = \"Nadeem Akhter\"\n",
    "age : int = 22\n",
    "\n",
    "card : str = \"PIAIC Student Card\\nStudent Name: \" + name + \"\\nAge:\" + age \n",
    "\n",
    "print(card)\n",
    "\n",
    "# error \n",
    "# TypeError                                 Traceback (most recent call last)\n",
    "# d:\\Learn Python\\step01\\main.ipynb Cell 2 line 5\n",
    "#       2 fname : str = \"Nadeem Akhter\"\n",
    "#       3 age : int = 22\n",
    "# ----> 5 card : str = \"PIAIC Student Card\\nStudent Name: \" + name + \"\\nAge:\" + age\n",
    "#       7 print(card)\n",
    "\n",
    "# TypeError: can only concatenate str (not \"int\") to str"
   ]
  },
  {
   "cell_type": "code",
   "execution_count": 10,
   "metadata": {},
   "outputs": [
    {
     "name": "stdout",
     "output_type": "stream",
     "text": [
      "PIAIC Student Card\n",
      "Student Name: Muhammad Rafi Ali\n",
      "Age:22\n"
     ]
    }
   ],
   "source": [
    "card : str = \"PIAIC Student Card\\nStudent Name: \" + name + \"\\nAge:\" + str(age)\n",
    "print(card)                                                              "
   ]
  },
  {
   "cell_type": "markdown",
   "metadata": {},
   "source": [
    "\"\\\" line continue"
   ]
  },
  {
   "cell_type": "code",
   "execution_count": 11,
   "metadata": {},
   "outputs": [
    {
     "name": "stdout",
     "output_type": "stream",
     "text": [
      "17\n"
     ]
    }
   ],
   "source": [
    "print(8 +\\\n",
    "      7 +\\\n",
    "        2)"
   ]
  },
  {
   "cell_type": "markdown",
   "metadata": {},
   "source": [
    "##define multiline string \"\"\""
   ]
  },
  {
   "cell_type": "code",
   "execution_count": 13,
   "metadata": {},
   "outputs": [
    {
     "name": "stdout",
     "output_type": "stream",
     "text": [
      "\n",
      "Piaic Student Card\n",
      "Student Name : ......\n",
      "age: ................\n",
      "\n"
     ]
    }
   ],
   "source": [
    "card : str = \"\"\"\n",
    "Piaic Student Card\n",
    "Student Name : ......\n",
    "age: ................\n",
    "\"\"\"\n",
    "print(card)"
   ]
  },
  {
   "cell_type": "code",
   "execution_count": 17,
   "metadata": {},
   "outputs": [
    {
     "name": "stdout",
     "output_type": "stream",
     "text": [
      "muhammad rafi\n"
     ]
    }
   ],
   "source": [
    "name : str = \"MuhAMMad RaFi\"\n",
    "print(name.lower())\n"
   ]
  },
  {
   "cell_type": "code",
   "execution_count": 18,
   "metadata": {},
   "outputs": [
    {
     "data": {
      "text/plain": [
       "'pakistan value a = 1 and value b = 2'"
      ]
     },
     "execution_count": 18,
     "metadata": {},
     "output_type": "execute_result"
    }
   ],
   "source": [
    "a = 1\n",
    "b = 2\n",
    "\n",
    "\"pakistan value a = {} and value b = {}\".format(a,b)"
   ]
  },
  {
   "cell_type": "code",
   "execution_count": 19,
   "metadata": {},
   "outputs": [
    {
     "data": {
      "text/plain": [
       "'Omer live in Medina'"
      ]
     },
     "execution_count": 19,
     "metadata": {},
     "output_type": "execute_result"
    }
   ],
   "source": [
    "name : str = \"Omer\"\n",
    "country : str = \"Medina\"\n",
    "\n",
    "'''{0} live in {1}'''.format(name,country)"
   ]
  },
  {
   "cell_type": "code",
   "execution_count": 21,
   "metadata": {},
   "outputs": [
    {
     "data": {
      "text/plain": [
       "'Omer live in Medina'"
      ]
     },
     "execution_count": 21,
     "metadata": {},
     "output_type": "execute_result"
    }
   ],
   "source": [
    "name : str = \"Omer\"\n",
    "country : str = \"Medina\"\n",
    "\n",
    "'''{a} live in {b}'''.format(a=name,b=country)"
   ]
  },
  {
   "cell_type": "markdown",
   "metadata": {},
   "source": [
    "```recomended```"
   ]
  },
  {
   "cell_type": "markdown",
   "metadata": {},
   "source": [
    "# F-string python "
   ]
  },
  {
   "cell_type": "code",
   "execution_count": null,
   "metadata": {},
   "outputs": [],
   "source": [
    "card : str = f\"\"\"\n",
    "Piaic Student Card\n",
    "Student Card: {student_name}\n",
    "Age: {age}\n",
    "fees: {500 * 2}\n",
    "\"\"\"\n",
    "print(card)"
   ]
  },
  {
   "cell_type": "code",
   "execution_count": 39,
   "metadata": {},
   "outputs": [
    {
     "data": {
      "text/plain": [
       "'Abu              Bakr         '"
      ]
     },
     "metadata": {},
     "output_type": "display_data"
    },
    {
     "data": {
      "text/plain": [
       "'Abu              Bakr'"
      ]
     },
     "metadata": {},
     "output_type": "display_data"
    },
    {
     "data": {
      "text/plain": [
       "'Abu Bakr '"
      ]
     },
     "metadata": {},
     "output_type": "display_data"
    },
    {
     "data": {
      "text/plain": [
       "'Abu Bakr'"
      ]
     },
     "metadata": {},
     "output_type": "display_data"
    }
   ],
   "source": [
    "import re\n",
    "\n",
    "name : str = \"Abu              Bakr         \"\n",
    "display(name)\n",
    "display(name.strip())\n",
    "\n",
    "name1 : str = re.sub(' {2,100}',' ',name)\n",
    "display(name1)\n",
    "name1 : str = re.sub(' {2,100}',' ',name).strip()\n",
    "display(name1)"
   ]
  },
  {
   "cell_type": "code",
   "execution_count": 41,
   "metadata": {},
   "outputs": [
    {
     "name": "stdout",
     "output_type": "stream",
     "text": [
      "Name:\tUsama\n",
      "Name:\n",
      "Usama\n",
      "NameUsama\n"
     ]
    }
   ],
   "source": [
    "print('Name:\\tUsama')\n",
    "\n",
    "print('Name:\\nUsama')\n",
    "\n",
    "print('Name:\\bUsama')"
   ]
  },
  {
   "cell_type": "code",
   "execution_count": 51,
   "metadata": {},
   "outputs": [
    {
     "name": "stdout",
     "output_type": "stream",
     "text": [
      "google.com\n",
      "google\n"
     ]
    }
   ],
   "source": [
    "url : str = \"https//google.com\"\n",
    "a = url.removeprefix(\"https//\")\n",
    "print(a)\n",
    "\n",
    "\n",
    "a = a.removesuffix(\".com\")\n",
    "print(a)\n"
   ]
  }
 ],
 "metadata": {
  "kernelspec": {
   "display_name": "python12",
   "language": "python",
   "name": "python3"
  },
  "language_info": {
   "codemirror_mode": {
    "name": "ipython",
    "version": 3
   },
   "file_extension": ".py",
   "mimetype": "text/x-python",
   "name": "python",
   "nbconvert_exporter": "python",
   "pygments_lexer": "ipython3",
   "version": "3.12.0"
  }
 },
 "nbformat": 4,
 "nbformat_minor": 2
}
