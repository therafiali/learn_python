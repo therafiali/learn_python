{
 "cells": [
  {
   "cell_type": "code",
   "execution_count": 37,
   "metadata": {},
   "outputs": [],
   "source": [
    "class Mother:\n",
    "    def __init__(self,name:str) -> None:\n",
    "        self.name : str = name\n",
    "        self.eye_color : str = \"blue\"\n",
    "    \n",
    "    def speaking(self, word : str) -> str:\n",
    "        return f\"Mother Speaking Function {word}\"\n",
    "\n",
    "class Father:\n",
    "    def __init__(self,name:str) -> None:\n",
    "        self.name : str = name\n",
    "        self.height : str = \"6 feet\"\n",
    "\n",
    "class Child(Mother,Father):\n",
    "    def __init__(self,mother_name:str , father_name:str,child_name:str ) -> None:\n",
    "        Mother.__init__(self,mother_name)\n",
    "        Father.__init__(self,father_name)\n",
    "        self.child_name : str = child_name\n",
    "\n",
    "rafi= Child(\"Jamila\",\"Nadeem Akhter\",\"Rafi Ali\")"
   ]
  },
  {
   "cell_type": "code",
   "execution_count": 38,
   "metadata": {},
   "outputs": [
    {
     "name": "stdout",
     "output_type": "stream",
     "text": [
      "object height 6 feet\n",
      "object eye color blue\n",
      "Mother Speaking Function Pakistan zinda bad\n"
     ]
    }
   ],
   "source": [
    "print(f\"object height {rafi.height}\")\n",
    "print(f\"object eye color {rafi.eye_color}\")\n",
    "print(rafi.speaking(\"Pakistan zinda bad\"))"
   ]
  }
 ],
 "metadata": {
  "kernelspec": {
   "display_name": "python12",
   "language": "python",
   "name": "python3"
  },
  "language_info": {
   "codemirror_mode": {
    "name": "ipython",
    "version": 3
   },
   "file_extension": ".py",
   "mimetype": "text/x-python",
   "name": "python",
   "nbconvert_exporter": "python",
   "pygments_lexer": "ipython3",
   "version": "3.12.0"
  }
 },
 "nbformat": 4,
 "nbformat_minor": 2
}
