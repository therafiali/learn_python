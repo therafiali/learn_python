{
 "cells": [
  {
   "cell_type": "code",
   "execution_count": 6,
   "metadata": {},
   "outputs": [
    {
     "name": "stdout",
     "output_type": "stream",
     "text": [
      "<_io.TextIOWrapper name='abc.txt' mode='r' encoding='utf-8'>\n"
     ]
    }
   ],
   "source": [
    "data = open(\"abc.txt\") #create connection\n",
    "\n",
    "print(data)\n",
    "\n",
    "data.close() #close connection"
   ]
  },
  {
   "cell_type": "code",
   "execution_count": 7,
   "metadata": {},
   "outputs": [
    {
     "name": "stdout",
     "output_type": "stream",
     "text": [
      "This is Rafi\n",
      "This is Ali\n",
      "\n"
     ]
    }
   ],
   "source": [
    "data = open(\"abc.txt\") #create connection\n",
    "\n",
    "print(data.read())\n",
    "\n",
    "data.close() #close connection"
   ]
  },
  {
   "cell_type": "code",
   "execution_count": 10,
   "metadata": {},
   "outputs": [
    {
     "name": "stdout",
     "output_type": "stream",
     "text": [
      "This is Rafi\n",
      "This is Ali\n",
      "\n"
     ]
    }
   ],
   "source": [
    "with open(\"abc.txt\") as myfile:\n",
    "    print(myfile.read())"
   ]
  },
  {
   "cell_type": "code",
   "execution_count": 14,
   "metadata": {},
   "outputs": [
    {
     "name": "stdout",
     "output_type": "stream",
     "text": [
      "This\n",
      " is Raf\n",
      "i\n",
      "Th\n"
     ]
    }
   ],
   "source": [
    "with open(\"abc.txt\") as myfile:\n",
    "    print(myfile.read(4))\n",
    "    "
   ]
  },
  {
   "cell_type": "code",
   "execution_count": 18,
   "metadata": {},
   "outputs": [
    {
     "name": "stdout",
     "output_type": "stream",
     "text": [
      "line 1 -  This is Rafi\n",
      "\n",
      "line 2 -  This is Ali\n",
      "\n"
     ]
    }
   ],
   "source": [
    "with open(\"abc.txt\") as myfile:\n",
    "    print(\"line 1 - \",myfile.readline())\n",
    "    print(\"line 2 - \",myfile.readline())"
   ]
  },
  {
   "cell_type": "code",
   "execution_count": 19,
   "metadata": {},
   "outputs": [
    {
     "name": "stdout",
     "output_type": "stream",
     "text": [
      "All lines -  ['This is Rafi\\n', 'This is Ali\\n']\n"
     ]
    }
   ],
   "source": [
    "with open(\"abc.txt\") as myfile:\n",
    "    print(\"All lines - \",myfile.readlines())"
   ]
  },
  {
   "cell_type": "code",
   "execution_count": 20,
   "metadata": {},
   "outputs": [
    {
     "name": "stdout",
     "output_type": "stream",
     "text": [
      "All lines -  This is Rafi\n",
      "\n"
     ]
    }
   ],
   "source": [
    "with open(\"abc.txt\") as myfile:\n",
    "    print(\"All lines - \",myfile.readlines()[0])"
   ]
  },
  {
   "cell_type": "code",
   "execution_count": 22,
   "metadata": {},
   "outputs": [],
   "source": [
    "# here is a for append\n",
    "with open(\"abc.txt\",\"a\") as myfile:\n",
    "    myfile.write(\"Hello World\") #go to file and check "
   ]
  },
  {
   "cell_type": "code",
   "execution_count": 24,
   "metadata": {},
   "outputs": [
    {
     "name": "stdout",
     "output_type": "stream",
     "text": [
      "This is Rafi\n",
      "This is Ali\n",
      "Hello World\n"
     ]
    }
   ],
   "source": [
    "with open(\"abc.txt\") as myfile:\n",
    "    print(myfile.read())"
   ]
  },
  {
   "cell_type": "code",
   "execution_count": 26,
   "metadata": {},
   "outputs": [],
   "source": [
    "\n",
    "# here is w for write\n",
    "\n",
    "with open(\"abc.txt\",\"w\") as myfile:\n",
    "\n",
    "    myfile.write(\"write mode overright all data remove old data \") #go to file and check "
   ]
  },
  {
   "cell_type": "code",
   "execution_count": 27,
   "metadata": {},
   "outputs": [
    {
     "name": "stdout",
     "output_type": "stream",
     "text": [
      "write attribute overright all data remove old data \n"
     ]
    }
   ],
   "source": [
    "with open(\"abc.txt\") as myfile:\n",
    "    print(myfile.read())"
   ]
  },
  {
   "cell_type": "code",
   "execution_count": 29,
   "metadata": {},
   "outputs": [],
   "source": [
    "\n",
    "# here is x for create new file\n",
    "\n",
    "with open(\"test1.txt\",\"w\") as test1:\n",
    "    test1.write(\"here is new file\") #go to directory and check\n",
    "\n",
    "\n",
    "   "
   ]
  },
  {
   "cell_type": "code",
   "execution_count": 32,
   "metadata": {},
   "outputs": [
    {
     "name": "stdout",
     "output_type": "stream",
     "text": [
      "here is new file\n"
     ]
    }
   ],
   "source": [
    "with open(\"test1.txt\") as test1:\n",
    "    print(test1.read())"
   ]
  },
  {
   "cell_type": "code",
   "execution_count": 33,
   "metadata": {},
   "outputs": [
    {
     "name": "stdout",
     "output_type": "stream",
     "text": [
      "0\n",
      "here is new file\n",
      "16\n"
     ]
    }
   ],
   "source": [
    "with open(\"test1.txt\") as test1:\n",
    "    # tell use for check cursor location\n",
    "    print(test1.tell())  # here cursor location is 0 \n",
    "    print(test1.read()) \n",
    "    print(test1.tell()) # here cursor location is 16 "
   ]
  },
  {
   "cell_type": "code",
   "execution_count": 38,
   "metadata": {},
   "outputs": [
    {
     "name": "stdout",
     "output_type": "stream",
     "text": [
      "0\n",
      "here is new file\n",
      "5\n",
      "is new file\n",
      "16\n"
     ]
    }
   ],
   "source": [
    "with open(\"test1.txt\") as test1:\n",
    "   \n",
    "    print(test1.tell())  # here cursor location is 0 \n",
    "    print(test1.read()) \n",
    "    # seek use for set custom cursor position\n",
    "    print(test1.seek(5))  # here set cursor position is 5 file read start after 5th position\n",
    "    print(test1.read()) \n",
    "    print(test1.tell()) # here cursor location is 16 "
   ]
  },
  {
   "cell_type": "code",
   "execution_count": 40,
   "metadata": {},
   "outputs": [],
   "source": [
    "with open(\"test1.txt\",\"a\") as test1:\n",
    "    test1.truncate(11)   #truncate remove data after 11 position"
   ]
  },
  {
   "cell_type": "code",
   "execution_count": 41,
   "metadata": {},
   "outputs": [
    {
     "name": "stdout",
     "output_type": "stream",
     "text": [
      "here is new\n"
     ]
    }
   ],
   "source": [
    "with open(\"test1.txt\") as test1:\n",
    "    print(test1.read())"
   ]
  }
 ],
 "metadata": {
  "kernelspec": {
   "display_name": "python12",
   "language": "python",
   "name": "python3"
  },
  "language_info": {
   "codemirror_mode": {
    "name": "ipython",
    "version": 3
   },
   "file_extension": ".py",
   "mimetype": "text/x-python",
   "name": "python",
   "nbconvert_exporter": "python",
   "pygments_lexer": "ipython3",
   "version": "3.12.0"
  }
 },
 "nbformat": 4,
 "nbformat_minor": 2
}
