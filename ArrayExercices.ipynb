{
  "nbformat": 4,
  "nbformat_minor": 0,
  "metadata": {
    "colab": {
      "provenance": [],
      "authorship_tag": "ABX9TyOwFJ9IfQhPoFSmJuJj+/4W"
    },
    "kernelspec": {
      "name": "python3",
      "display_name": "Python 3"
    },
    "language_info": {
      "name": "python"
    }
  },
  "cells": [
    {
      "cell_type": "markdown",
      "source": [
        "# *Exercise: Array DataStructure*"
      ],
      "metadata": {
        "id": "Khr_kBdmGwlT"
      }
    },
    {
      "cell_type": "markdown",
      "source": [
        "1- Let us say your expense for every month are listed below, <br/>\n",
        "\n",
        "January - 2200  <br/>\n",
        "February - 2350  <br/>\n",
        "March - 2600  <br/>\n",
        "April - 2130  <br/>\n",
        "May - 2190  <br/>"
      ],
      "metadata": {
        "id": "DF6e7-2iG8by"
      }
    },
    {
      "cell_type": "markdown",
      "source": [
        "Create a list to store these monthly expenses and using that find out,"
      ],
      "metadata": {
        "id": "JLI2-DNYHZts"
      }
    },
    {
      "cell_type": "markdown",
      "source": [
        "1. In Feb, how many dollars you spent extra compare to January?\n",
        "2. Find out your total expense in first quarter (first three months) of the year.\n",
        "3. Find out if you spent exactly 2000 dollars in any month\n",
        "4. June month just finished and your expense is 1980 dollar. Add this item to our monthly expense list\n",
        "5. You returned an item that you bought in a month of April and\n",
        "got a refund of 200$. Make a correction to your monthly expense list\n",
        "based on this"
      ],
      "metadata": {
        "id": "HIkaDNbEHgNZ"
      }
    },
    {
      "cell_type": "code",
      "source": [
        "store = [\n",
        "   2200,2350,2600,2130,2190\n",
        "]"
      ],
      "metadata": {
        "id": "tb24xPPJHoeG"
      },
      "execution_count": 21,
      "outputs": []
    },
    {
      "cell_type": "code",
      "source": [
        "# 1\n",
        "print(f\"In Feb, I spent {store[1]-store[0]} more than in Jan\")"
      ],
      "metadata": {
        "colab": {
          "base_uri": "https://localhost:8080/"
        },
        "id": "I7sWWxfRHiLq",
        "outputId": "1db11105-33a4-44b7-828f-bf4928f78744"
      },
      "execution_count": 22,
      "outputs": [
        {
          "output_type": "stream",
          "name": "stdout",
          "text": [
            "In Feb, I spent 150 more than in Jan\n"
          ]
        }
      ]
    },
    {
      "cell_type": "code",
      "source": [
        "# 2\n",
        "print(f\"My total expense in first quarter is {sum(store[:3])}\")"
      ],
      "metadata": {
        "colab": {
          "base_uri": "https://localhost:8080/"
        },
        "id": "Gv-2VfptNO3Q",
        "outputId": "614291d0-7bad-44b5-acbb-01b462461b45"
      },
      "execution_count": 23,
      "outputs": [
        {
          "output_type": "stream",
          "name": "stdout",
          "text": [
            "My total expense in first quarter is 7150\n"
          ]
        }
      ]
    },
    {
      "cell_type": "code",
      "source": [
        "#3\n",
        "print(f\"Did I spend 2000$ in any month? The Answer is: {'Yes' if 2000 in store else 'No'}\")"
      ],
      "metadata": {
        "colab": {
          "base_uri": "https://localhost:8080/"
        },
        "id": "oUXbyaqdNTjr",
        "outputId": "196d6deb-9663-4506-bf26-d5b585a34669"
      },
      "execution_count": 26,
      "outputs": [
        {
          "output_type": "stream",
          "name": "stdout",
          "text": [
            "Did I spend 2000$ in any month? The Answer is: No\n"
          ]
        }
      ]
    },
    {
      "cell_type": "code",
      "source": [
        "#4\n",
        "store.append(1980)\n",
        "print(f\"My monthly expense list is now: {store}\")"
      ],
      "metadata": {
        "colab": {
          "base_uri": "https://localhost:8080/"
        },
        "id": "S9wsdKzqNmmD",
        "outputId": "b905fc26-96de-4b95-edb1-937f4233db22"
      },
      "execution_count": 27,
      "outputs": [
        {
          "output_type": "stream",
          "name": "stdout",
          "text": [
            "My monthly expense list is now: [2200, 2350, 2600, 2130, 2190, 1980]\n"
          ]
        }
      ]
    },
    {
      "cell_type": "code",
      "source": [
        "#5\n",
        "store[3] = store[3] - 200\n",
        "print(f\"My monthly expense list is now: {store}\")"
      ],
      "metadata": {
        "colab": {
          "base_uri": "https://localhost:8080/"
        },
        "id": "XV2s3UBENtKw",
        "outputId": "3eb6bd5f-dd89-4b36-f018-e804aa310a08"
      },
      "execution_count": 28,
      "outputs": [
        {
          "output_type": "stream",
          "name": "stdout",
          "text": [
            "My monthly expense list is now: [2200, 2350, 2600, 1930, 2190, 1980]\n"
          ]
        }
      ]
    }
  ]
}