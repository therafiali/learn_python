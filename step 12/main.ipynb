{
 "cells": [
  {
   "cell_type": "code",
   "execution_count": 1,
   "metadata": {},
   "outputs": [],
   "source": [
    "# here we make class\n",
    "class Person:   # first character of class name should be capital \n",
    "    def __init__(self,person_name,age): # this is method\n",
    "        self.name = person_name\n",
    "        self.age = age\n"
   ]
  },
  {
   "cell_type": "code",
   "execution_count": 5,
   "metadata": {},
   "outputs": [
    {
     "name": "stdout",
     "output_type": "stream",
     "text": [
      "Rafi\n",
      "22\n"
     ]
    }
   ],
   "source": [
    "# here we make object by the help of person class\n",
    "\n",
    "p1 = Person(\"Rafi\",22)\n",
    "\n",
    "print(p1.name)\n",
    "print(p1.age)"
   ]
  },
  {
   "cell_type": "code",
   "execution_count": 16,
   "metadata": {},
   "outputs": [],
   "source": [
    "\n",
    "class Person:   \n",
    "    def __init__(self,person_name,age):\n",
    "        self.name = person_name\n",
    "        self.age = age\n",
    "    def welcome(self):\n",
    "        print(f\"Welcome {self.name}\")    "
   ]
  },
  {
   "cell_type": "code",
   "execution_count": 17,
   "metadata": {},
   "outputs": [
    {
     "name": "stdout",
     "output_type": "stream",
     "text": [
      "Welcome Rafi\n"
     ]
    }
   ],
   "source": [
    "p2 = Person(\"Rafi\",22)\n",
    "p2.welcome()"
   ]
  },
  {
   "cell_type": "code",
   "execution_count": 19,
   "metadata": {},
   "outputs": [],
   "source": [
    "# Inheritance\n",
    "\n",
    "class Person:   \n",
    "    def __init__(self,person_name,age):\n",
    "        self.name = person_name\n",
    "        self.age = age\n",
    "    def welcome(self):\n",
    "        print(f\"Welcome {self.name}\")    \n",
    "\n",
    "class Student(Person): \n",
    "    pass        "
   ]
  },
  {
   "cell_type": "code",
   "execution_count": 21,
   "metadata": {},
   "outputs": [
    {
     "data": {
      "text/plain": [
       "13"
      ]
     },
     "execution_count": 21,
     "metadata": {},
     "output_type": "execute_result"
    }
   ],
   "source": [
    "s1 = Student(\"Ali\",13)\n",
    "s1.age"
   ]
  },
  {
   "cell_type": "code",
   "execution_count": 22,
   "metadata": {},
   "outputs": [
    {
     "data": {
      "text/plain": [
       "'Ali'"
      ]
     },
     "execution_count": 22,
     "metadata": {},
     "output_type": "execute_result"
    }
   ],
   "source": [
    "s1 = Student(\"Ali\",13)\n",
    "s1.name"
   ]
  },
  {
   "cell_type": "code",
   "execution_count": 24,
   "metadata": {},
   "outputs": [
    {
     "name": "stdout",
     "output_type": "stream",
     "text": [
      "Welcome Ali\n"
     ]
    }
   ],
   "source": [
    "s1 = Student(\"Ali\",13)\n",
    "s1.welcome()"
   ]
  },
  {
   "cell_type": "code",
   "execution_count": 25,
   "metadata": {},
   "outputs": [],
   "source": [
    "class Person:   \n",
    "    def __init__(self,person_name,age):\n",
    "        self.name = person_name\n",
    "        self.age = age\n",
    "    def welcome(self):\n",
    "        print(f\"Welcome {self.name}\")    \n",
    "\n",
    "class Student(Person):\n",
    "    def __init__(self,person_name,age,email):\n",
    "        super().__init__(person_name,age)\n",
    "        self.mail = email\n",
    "        "
   ]
  },
  {
   "cell_type": "code",
   "execution_count": 27,
   "metadata": {},
   "outputs": [],
   "source": [
    "st2 = Student(\"Rafi Ali\",22,\"therafiali@gmail.com\")"
   ]
  },
  {
   "cell_type": "code",
   "execution_count": 30,
   "metadata": {},
   "outputs": [
    {
     "name": "stdout",
     "output_type": "stream",
     "text": [
      "Rafi Ali\n",
      "22\n",
      "therafiali@gmail.com\n",
      "Welcome Rafi Ali\n"
     ]
    }
   ],
   "source": [
    "print(st2.name)\n",
    "print(st2.age)\n",
    "print(st2.mail)\n",
    "st2.welcome()"
   ]
  },
  {
   "cell_type": "code",
   "execution_count": 31,
   "metadata": {},
   "outputs": [],
   "source": [
    "class Student(Person):\n",
    "    schoolName = \"PIAIC\"\n",
    "    def __init__(self,person_name,age,email):\n",
    "        super().__init__(person_name,age)\n",
    "        self.mail = email"
   ]
  },
  {
   "cell_type": "code",
   "execution_count": 33,
   "metadata": {},
   "outputs": [
    {
     "data": {
      "text/plain": [
       "'PIAIC'"
      ]
     },
     "execution_count": 33,
     "metadata": {},
     "output_type": "execute_result"
    }
   ],
   "source": [
    "st1 = Student.schoolName\n",
    "st1"
   ]
  }
 ],
 "metadata": {
  "kernelspec": {
   "display_name": "python12",
   "language": "python",
   "name": "python3"
  },
  "language_info": {
   "codemirror_mode": {
    "name": "ipython",
    "version": 3
   },
   "file_extension": ".py",
   "mimetype": "text/x-python",
   "name": "python",
   "nbconvert_exporter": "python",
   "pygments_lexer": "ipython3",
   "version": "3.12.0"
  }
 },
 "nbformat": 4,
 "nbformat_minor": 2
}
