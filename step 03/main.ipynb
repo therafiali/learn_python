{
 "cells": [
  {
   "cell_type": "markdown",
   "metadata": {},
   "source": [
    "List Methods\n",
    "* dynamic lenght\n",
    "* hetrogenous data types (multiples types)\n",
    "* index\n",
    "    * positive 0 to n-1\n",
    "    * negative -1 to length\n",
    "    "
   ]
  },
  {
   "cell_type": "code",
   "execution_count": 1,
   "metadata": {},
   "outputs": [
    {
     "name": "stdout",
     "output_type": "stream",
     "text": [
      "omer\n",
      "omer\n"
     ]
    }
   ],
   "source": [
    "#   ->     0       1         2            3\n",
    "names = [\"omer\" , \"ali\" , \"abu bakr\" , \"usman\"]\n",
    "#   <-     -4       -3        -2          -1\n",
    "\n",
    "\n",
    "print(names[0]) #omer\n",
    "print(names[-4]) #omer\n"
   ]
  },
  {
   "cell_type": "code",
   "execution_count": 4,
   "metadata": {},
   "outputs": [
    {
     "name": "stdout",
     "output_type": "stream",
     "text": [
      "My Name is RAFI\n"
     ]
    }
   ],
   "source": [
    "from typing import Any\n",
    "\n",
    "names : list[Any] = [\"Rafi\",\"Usman\",\"Ali\"]\n",
    "\n",
    "print(f'My Name is {names[0].upper()}')"
   ]
  },
  {
   "cell_type": "code",
   "execution_count": 6,
   "metadata": {},
   "outputs": [
    {
     "name": "stdout",
     "output_type": "stream",
     "text": [
      "['R', 'a', 'f', 'i']\n"
     ]
    }
   ],
   "source": [
    "my_name = list(\"Rafi\")\n",
    "print(my_name)"
   ]
  },
  {
   "cell_type": "code",
   "execution_count": 19,
   "metadata": {},
   "outputs": [
    {
     "name": "stdout",
     "output_type": "stream",
     "text": [
      "['R', 'a']\n",
      "['R', 'a']\n",
      "['R', 'a']\n",
      "['R', 'a']\n",
      "['R', 'a']\n",
      "['R', 'f']\n",
      "['i', 'f', 'a', 'R']\n",
      "[]\n",
      "['i', 'f']\n"
     ]
    }
   ],
   "source": [
    "# Slicing\n",
    "characters : list[str] = ['R', 'a', 'f', 'i']\n",
    "\n",
    "print(characters[0:2]) # 0 = include : index 2 -1 = 1\n",
    "print(characters[:2]) # not pass any number = all\n",
    "print(characters[-4:-2]) # 0 = include : index 2 -1 = 1\n",
    "print(characters[0:2:1]) # 0 = include : index 2 -1 = 1 and add step 1\n",
    "print(characters[0:2:]) # by default step 1\n",
    "print(characters[::2]) # all run after 2 steps\n",
    "print(characters[::-1]) # reverse\n",
    "print(characters[-1:-3]) # null\n",
    "print(characters[-1:-3:-1]) # reverse start\n"
   ]
  },
  {
   "cell_type": "code",
   "execution_count": 28,
   "metadata": {},
   "outputs": [
    {
     "name": "stdout",
     "output_type": "stream",
     "text": [
      "['Muhammad Rafi Ali', 'Usman', 'Ali', 'Faiq']\n",
      "['Muhammad Rafi Ali', 'Usman', 'Ali']\n",
      "Ali\n",
      "Usman\n",
      "['Muhammad Rafi Ali']\n"
     ]
    }
   ],
   "source": [
    "from typing import Any\n",
    "\n",
    "names : list[Any] = [\"Rafi\",\"Usman\",\"Ali\",\"Faiq\"]\n",
    "\n",
    "names[0] = \"Muhammad Rafi Ali\"\n",
    "print(names)\n",
    "\n",
    "del names[3]\n",
    "print(names)\n",
    "\n",
    "a : str = names.pop() # remove from last\n",
    "print(a)\n",
    "\n",
    "a : str = names.pop(1) # remove specific place\n",
    "print(a)\n",
    "\n",
    "print(names)\n"
   ]
  },
  {
   "cell_type": "code",
   "execution_count": 35,
   "metadata": {},
   "outputs": [
    {
     "name": "stdout",
     "output_type": "stream",
     "text": [
      "['a', 'b', 'Rafi', 'Rafy', 'Python', 'Sir Qasim']\n"
     ]
    }
   ],
   "source": [
    "names : list[str] = [\"a\",\"b\"]\n",
    "\n",
    "names.append(\"Rafi\")\n",
    "names.append(\"Rafy\")\n",
    "names.append(\"Python\")\n",
    "names.append(\"Sir Qasim\")\n",
    "\n",
    "print(names)"
   ]
  },
  {
   "cell_type": "code",
   "execution_count": 37,
   "metadata": {},
   "outputs": [
    {
     "name": "stdout",
     "output_type": "stream",
     "text": [
      "['a', 'Sofia', 'b']\n"
     ]
    }
   ],
   "source": [
    "names : list[str] = [\"a\",\"b\"]\n",
    "\n",
    "names.insert(1,\"Sofia\")\n",
    "\n",
    "print(names)"
   ]
  },
  {
   "cell_type": "code",
   "execution_count": 39,
   "metadata": {},
   "outputs": [
    {
     "name": "stdout",
     "output_type": "stream",
     "text": [
      "[]\n"
     ]
    }
   ],
   "source": [
    "names : list[str] = [\"a\",\"b\"]\n",
    "names.clear() # remove only element not variable\n",
    "print(names)"
   ]
  },
  {
   "cell_type": "code",
   "execution_count": 41,
   "metadata": {},
   "outputs": [
    {
     "name": "stdout",
     "output_type": "stream",
     "text": [
      "['a', 'b']\n",
      "['a', 'b']\n",
      "['Pakistan', 'b']\n",
      "['Pakistan', 'b']\n"
     ]
    }
   ],
   "source": [
    "a : list[str] = [\"a\",\"b\"]\n",
    "b = a\n",
    "print(a)\n",
    "print(b)\n",
    "\n",
    "b[0] = \"Pakistan\"\n",
    "\n",
    "print(a)\n",
    "print(b)\n"
   ]
  },
  {
   "cell_type": "code",
   "execution_count": 45,
   "metadata": {},
   "outputs": [
    {
     "name": "stdout",
     "output_type": "stream",
     "text": [
      "['a', 'b']\n",
      "['a', 'b']\n",
      "['a', 'b']\n",
      "['Pakistan', 'b']\n"
     ]
    }
   ],
   "source": [
    "a : list[str] = [\"a\",\"b\"]\n",
    "b = a.copy()\n",
    "print(a)\n",
    "print(b)\n",
    "\n",
    "b[0] = \"Pakistan\"\n",
    "\n",
    "print(a)\n",
    "print(b)"
   ]
  },
  {
   "cell_type": "code",
   "execution_count": 49,
   "metadata": {},
   "outputs": [
    {
     "name": "stdout",
     "output_type": "stream",
     "text": [
      "2\n"
     ]
    }
   ],
   "source": [
    "#count\n",
    "\n",
    "a : list[str] = [\"a\",\"b\",\"c\",\"c\"]\n",
    "print(a.count(\"c\"))\n"
   ]
  },
  {
   "cell_type": "code",
   "execution_count": 53,
   "metadata": {},
   "outputs": [
    {
     "name": "stdout",
     "output_type": "stream",
     "text": [
      "['a', 'b', 'c', 'c', 'e', 'f', 'g']\n"
     ]
    }
   ],
   "source": [
    "#extend\n",
    "\n",
    "a : list[str] = [\"a\",\"b\",\"c\",\"c\"] #Gen AI\n",
    "new_members : list[str] = [\"e\",\"f\",\"g\"]\n",
    "\n",
    "# a.append(new_members) #['a', 'b', 'c', 'c', ['e', 'f', 'g']]\n",
    "# print(a)\n",
    "\n",
    "a.extend(new_members)\n",
    "print(a) #['a', 'b', 'c', 'c', 'e', 'f', 'g']"
   ]
  },
  {
   "cell_type": "code",
   "execution_count": 58,
   "metadata": {},
   "outputs": [
    {
     "name": "stdout",
     "output_type": "stream",
     "text": [
      "['Rafi', 'Usman', 'Ali', 'Faiq']\n"
     ]
    }
   ],
   "source": [
    "\n",
    "names : list[str] = [\"Faiq\",\"Rafi\",\"Usman\",\"Ali\",\"Faiq\"]\n",
    "\n",
    "names.remove(\"Faiq\")\n",
    "\n",
    "names\n",
    "\n"
   ]
  },
  {
   "cell_type": "code",
   "execution_count": 65,
   "metadata": {},
   "outputs": [
    {
     "data": {
      "text/plain": [
       "3"
      ]
     },
     "execution_count": 65,
     "metadata": {},
     "output_type": "execute_result"
    }
   ],
   "source": [
    "names.index(\"Faiq\")\n",
    "\n"
   ]
  },
  {
   "cell_type": "code",
   "execution_count": 69,
   "metadata": {},
   "outputs": [
    {
     "name": "stdout",
     "output_type": "stream",
     "text": [
      "['Faiq', 'Ali', 'Usman', 'Rafi']\n",
      "['Rafi', 'Usman', 'Ali', 'Faiq']\n"
     ]
    }
   ],
   "source": [
    "\n",
    "print(names)\n",
    "names.reverse()\n",
    "print(names)"
   ]
  },
  {
   "cell_type": "code",
   "execution_count": 73,
   "metadata": {},
   "outputs": [
    {
     "name": "stdout",
     "output_type": "stream",
     "text": [
      "['Ali', 'Faiq', 'Rafi', 'Usman']\n",
      "['Usman', 'Rafi', 'Faiq', 'Ali']\n"
     ]
    }
   ],
   "source": [
    "v : list[str] = ['Rafi', 'Usman', 'Ali', 'Faiq']\n",
    "v.sort() # for ascending\n",
    "print(v)\n",
    "v.sort(reverse=True) # for descending\n",
    "print(v)\n"
   ]
  },
  {
   "cell_type": "markdown",
   "metadata": {},
   "source": [
    "#help in python\n",
    "\n",
    "* help(object)\n",
    "* object?\n",
    "* object??\n",
    "* ?object\n",
    "* ??object"
   ]
  },
  {
   "cell_type": "code",
   "execution_count": 75,
   "metadata": {},
   "outputs": [
    {
     "data": {
      "text/plain": [
       "4"
      ]
     },
     "execution_count": 75,
     "metadata": {},
     "output_type": "execute_result"
    }
   ],
   "source": [
    "v : list[str] = ['Usman', 'Rafi', 'Faiq', 'Ali']\n",
    "len(v)\n"
   ]
  },
  {
   "cell_type": "code",
   "execution_count": 25,
   "metadata": {},
   "outputs": [
    {
     "name": "stdout",
     "output_type": "stream",
     "text": [
      "Help on built-in function print in module builtins:\n",
      "\n",
      "print(*args, sep=' ', end='\\n', file=None, flush=False)\n",
      "    Prints the values to a stream, or to sys.stdout by default.\n",
      "\n",
      "    sep\n",
      "      string inserted between values, default a space.\n",
      "    end\n",
      "      string appended after the last value, default a newline.\n",
      "    file\n",
      "      a file-like object (stream); defaults to the current sys.stdout.\n",
      "    flush\n",
      "      whether to forcibly flush the stream.\n",
      "\n"
     ]
    }
   ],
   "source": [
    "help(print)"
   ]
  }
 ],
 "metadata": {
  "kernelspec": {
   "display_name": "python12",
   "language": "python",
   "name": "python3"
  },
  "language_info": {
   "codemirror_mode": {
    "name": "ipython",
    "version": 3
   },
   "file_extension": ".py",
   "mimetype": "text/x-python",
   "name": "python",
   "nbconvert_exporter": "python",
   "pygments_lexer": "ipython3",
   "version": "3.12.0"
  }
 },
 "nbformat": 4,
 "nbformat_minor": 2
}
