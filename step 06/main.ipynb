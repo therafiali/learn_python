{
 "cells": [
  {
   "cell_type": "markdown",
   "metadata": {},
   "source": [
    "## Dictionary\n",
    "* key:value (items)\n",
    "    * key replacement of indexes\n",
    "    * value item"
   ]
  },
  {
   "cell_type": "code",
   "execution_count": 4,
   "metadata": {},
   "outputs": [
    {
     "data": {
      "text/plain": [
       "{'name': 'Muhammad Rafi', 'fname': 'Nadeem Akhter', 0: 'Pakistan'}"
      ]
     },
     "execution_count": 4,
     "metadata": {},
     "output_type": "execute_result"
    }
   ],
   "source": [
    "from typing import Dict\n",
    "data : Dict [str,str] = {\n",
    "    \"name\" : \"Muhammad Rafi\",\n",
    "    \"fname\":\"Nadeem Akhter\",\n",
    "    0:\"Pakistan\"\n",
    "}\n",
    "\n",
    "data"
   ]
  },
  {
   "cell_type": "code",
   "execution_count": 3,
   "metadata": {},
   "outputs": [
    {
     "name": "stdout",
     "output_type": "stream",
     "text": [
      "Muhammad Rafi\n"
     ]
    }
   ],
   "source": [
    "print(data[\"name\"])"
   ]
  },
  {
   "cell_type": "code",
   "execution_count": 5,
   "metadata": {},
   "outputs": [
    {
     "name": "stdout",
     "output_type": "stream",
     "text": [
      "Pakistan\n"
     ]
    }
   ],
   "source": [
    "print(data[0])"
   ]
  },
  {
   "cell_type": "code",
   "execution_count": 6,
   "metadata": {},
   "outputs": [
    {
     "name": "stdout",
     "output_type": "stream",
     "text": [
      "{2, 3, 4, 23, 7}\n"
     ]
    }
   ],
   "source": [
    "# SET\n",
    "data_set : set = {7,4,23,3,3,3,2,4,3}\n",
    "print(data_set) # unique and order"
   ]
  },
  {
   "cell_type": "code",
   "execution_count": 11,
   "metadata": {},
   "outputs": [
    {
     "name": "stdout",
     "output_type": "stream",
     "text": [
      "{0: 'Pakistan',\n",
      " 'dic': {'a': 1, 'b': 2},\n",
      " 'fname': 'Nadeem Akhter',\n",
      " 'name': 'Muhammad Rafi'}\n"
     ]
    }
   ],
   "source": [
    "import pprint\n",
    "data : Dict [str,str] = {\n",
    "    \"name\" : \"Muhammad Rafi\",\n",
    "    \"fname\":\"Nadeem Akhter\",\n",
    "    0:\"Pakistan\",\n",
    "    \"dic\":{\n",
    "        \"a\":1,\"b\":2,\n",
    "    }\n",
    "}\n",
    "\n",
    "pprint.pprint(data) # pprint for prettier"
   ]
  },
  {
   "cell_type": "code",
   "execution_count": 16,
   "metadata": {},
   "outputs": [
    {
     "name": "stdout",
     "output_type": "stream",
     "text": [
      "{'a': 1, 'b': 2}\n",
      "1\n"
     ]
    }
   ],
   "source": [
    "print(data[\"dic\"])\n",
    "print(data[\"dic\"][\"a\"])"
   ]
  },
  {
   "cell_type": "code",
   "execution_count": 17,
   "metadata": {},
   "outputs": [],
   "source": [
    "dic : dict[str,str]={}"
   ]
  },
  {
   "cell_type": "code",
   "execution_count": 19,
   "metadata": {},
   "outputs": [
    {
     "data": {
      "text/plain": [
       "{'name': 'Ali'}"
      ]
     },
     "execution_count": 19,
     "metadata": {},
     "output_type": "execute_result"
    }
   ],
   "source": [
    "dic[\"name\"]=\"Ali\"\n",
    "dic"
   ]
  },
  {
   "cell_type": "code",
   "execution_count": 20,
   "metadata": {},
   "outputs": [
    {
     "data": {
      "text/plain": [
       "{'name': 'M.ali'}"
      ]
     },
     "execution_count": 20,
     "metadata": {},
     "output_type": "execute_result"
    }
   ],
   "source": [
    "dic[\"name\"] = \"M.ali\"\n",
    "dic"
   ]
  },
  {
   "cell_type": "code",
   "execution_count": 22,
   "metadata": {},
   "outputs": [
    {
     "name": "stdout",
     "output_type": "stream",
     "text": [
      "NA\n"
     ]
    }
   ],
   "source": [
    "print(dic.get(\"names\",\"NA\"))"
   ]
  },
  {
   "cell_type": "code",
   "execution_count": 23,
   "metadata": {},
   "outputs": [
    {
     "name": "stdout",
     "output_type": "stream",
     "text": [
      "name\n",
      "fname\n",
      "0\n",
      "dic\n"
     ]
    }
   ],
   "source": [
    "for d in data:\n",
    "    print(d)"
   ]
  },
  {
   "cell_type": "code",
   "execution_count": 26,
   "metadata": {},
   "outputs": [
    {
     "name": "stdout",
     "output_type": "stream",
     "text": [
      "dict_keys(['name', 'fname', 0, 'dic'])\n",
      "dict_values(['Muhammad Rafi', 'Nadeem Akhter', 'Pakistan', {'a': 1, 'b': 2}])\n",
      "dict_items([('name', 'Muhammad Rafi'), ('fname', 'Nadeem Akhter'), (0, 'Pakistan'), ('dic', {'a': 1, 'b': 2})])\n"
     ]
    }
   ],
   "source": [
    "print(data.keys())\n",
    "print(data.values())\n",
    "print(data.items())"
   ]
  },
  {
   "cell_type": "code",
   "execution_count": 28,
   "metadata": {},
   "outputs": [
    {
     "name": "stdout",
     "output_type": "stream",
     "text": [
      "name\n",
      "fname\n",
      "0\n",
      "dic\n"
     ]
    }
   ],
   "source": [
    "for d in data.keys():\n",
    "    print(d)"
   ]
  },
  {
   "cell_type": "code",
   "execution_count": 32,
   "metadata": {},
   "outputs": [
    {
     "name": "stdout",
     "output_type": "stream",
     "text": [
      "Muhammad Rafi\n",
      "Nadeem Akhter\n",
      "Pakistan\n",
      "{'a': 1, 'b': 2}\n"
     ]
    }
   ],
   "source": [
    "for d in data.keys():\n",
    "    print(data[d])"
   ]
  },
  {
   "cell_type": "code",
   "execution_count": 33,
   "metadata": {},
   "outputs": [
    {
     "name": "stdout",
     "output_type": "stream",
     "text": [
      "name Muhammad Rafi\n",
      "fname Nadeem Akhter\n",
      "0 Pakistan\n",
      "dic {'a': 1, 'b': 2}\n"
     ]
    }
   ],
   "source": [
    "for d in data.keys():\n",
    "    print(d,data[d])"
   ]
  },
  {
   "cell_type": "code",
   "execution_count": 34,
   "metadata": {},
   "outputs": [
    {
     "name": "stdout",
     "output_type": "stream",
     "text": [
      "name Muhammad Rafi\n",
      "fname Nadeem Akhter\n",
      "0 Pakistan\n",
      "dic {'a': 1, 'b': 2}\n"
     ]
    }
   ],
   "source": [
    "for k,l in data.items():\n",
    "    print(k,l)"
   ]
  },
  {
   "cell_type": "code",
   "execution_count": 35,
   "metadata": {},
   "outputs": [
    {
     "data": {
      "text/plain": [
       "{'name': 'Muhammad Rafi',\n",
       " 'fname': 'Nadeem Akhter',\n",
       " 0: 'Pakistan',\n",
       " 'dic': {'a': 1, 'b': 2}}"
      ]
     },
     "execution_count": 35,
     "metadata": {},
     "output_type": "execute_result"
    }
   ],
   "source": [
    "{k:l for k,l in data.items() }"
   ]
  },
  {
   "cell_type": "code",
   "execution_count": 37,
   "metadata": {},
   "outputs": [
    {
     "name": "stdout",
     "output_type": "stream",
     "text": [
      "3 5\n"
     ]
    }
   ],
   "source": [
    "a : int = 5\n",
    "b : int = 3\n",
    "\n",
    "a, b = b, a\n",
    "print(a, b)"
   ]
  },
  {
   "cell_type": "code",
   "execution_count": 40,
   "metadata": {},
   "outputs": [
    {
     "data": {
      "text/plain": [
       "{'id': None, 'name': None}"
      ]
     },
     "execution_count": 40,
     "metadata": {},
     "output_type": "execute_result"
    }
   ],
   "source": [
    "keys : list[str] = [\"id\",\"name\"]\n",
    "\n",
    "data_base : dict[str,str] = {}\n",
    "\n",
    "database = data_base.fromkeys(keys)\n",
    "database\n",
    "\n"
   ]
  }
 ],
 "metadata": {
  "kernelspec": {
   "display_name": "python12",
   "language": "python",
   "name": "python3"
  },
  "language_info": {
   "codemirror_mode": {
    "name": "ipython",
    "version": 3
   },
   "file_extension": ".py",
   "mimetype": "text/x-python",
   "name": "python",
   "nbconvert_exporter": "python",
   "pygments_lexer": "ipython3",
   "version": "3.12.0"
  }
 },
 "nbformat": 4,
 "nbformat_minor": 2
}
