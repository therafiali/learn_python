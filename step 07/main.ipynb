{
 "cells": [
  {
   "cell_type": "markdown",
   "metadata": {},
   "source": [
    "# loop and input from user\n",
    "\n",
    "*while\n",
    "*for\n",
    "*controls\n",
    "    *break\n",
    "    *continue\n",
    "    *pass\n",
    "*input with input function\n",
    "*input from console\n",
    "\n",
    "# Loop working on iterative data types\n",
    "\n",
    "*list\n",
    "*dictionary\n",
    "*tuple\n",
    "*string\n",
    "\n",
    "\n",
    "    "
   ]
  },
  {
   "cell_type": "code",
   "execution_count": 2,
   "metadata": {},
   "outputs": [
    {
     "name": "stdout",
     "output_type": "stream",
     "text": [
      "[1, 2, 3, 4, 5, 6]\n"
     ]
    }
   ],
   "source": [
    "l1 : list[int] = [1,2,3,4,5,6]\n",
    "print(l1)\n"
   ]
  },
  {
   "cell_type": "code",
   "execution_count": 3,
   "metadata": {},
   "outputs": [
    {
     "name": "stdout",
     "output_type": "stream",
     "text": [
      "1\n",
      "2\n",
      "3\n",
      "4\n",
      "5\n",
      "6\n"
     ]
    }
   ],
   "source": [
    "for n in l1:\n",
    "    print(n)"
   ]
  },
  {
   "cell_type": "code",
   "execution_count": 4,
   "metadata": {},
   "outputs": [
    {
     "name": "stdout",
     "output_type": "stream",
     "text": [
      "current chracter :P\n",
      "current chracter :a\n",
      "current chracter :k\n",
      "current chracter :i\n",
      "current chracter :s\n",
      "current chracter :t\n",
      "current chracter :a\n",
      "current chracter :n\n"
     ]
    }
   ],
   "source": [
    "country : str = \"Pakistan\"\n",
    "\n",
    "for n in country:\n",
    "    print(f\"current chracter :{n}\")"
   ]
  },
  {
   "cell_type": "code",
   "execution_count": 6,
   "metadata": {},
   "outputs": [
    {
     "name": "stdout",
     "output_type": "stream",
     "text": [
      "the key is: name and the value is: Rafi\n",
      "the key is: age and the value is: 22\n"
     ]
    }
   ],
   "source": [
    "l1 : dict[str,str] = {\n",
    "    \"name\" : \"Rafi\",\n",
    "    \"age\" : 22,\n",
    "}\n",
    "for n in l1:\n",
    "    print(f\"the key is: {n} and the value is: {l1[n]}\")"
   ]
  },
  {
   "cell_type": "markdown",
   "metadata": {},
   "source": [
    "# input from user\n",
    "* input function\n",
    "    *default type = string\n",
    "* sys.argv(for console input in abc.py file)\n",
    "    default type = str"
   ]
  },
  {
   "cell_type": "code",
   "execution_count": 7,
   "metadata": {},
   "outputs": [
    {
     "name": "stdout",
     "output_type": "stream",
     "text": [
      "Welcome dear Rafi Ali\n"
     ]
    }
   ],
   "source": [
    "name : str = input(\"Enter Your Name:\")\n",
    "print(f\"Welcome dear {name}\")"
   ]
  },
  {
   "cell_type": "code",
   "execution_count": 9,
   "metadata": {},
   "outputs": [
    {
     "data": {
      "text/plain": [
       "['__add__',\n",
       " '__class__',\n",
       " '__class_getitem__',\n",
       " '__contains__',\n",
       " '__delattr__',\n",
       " '__dir__',\n",
       " '__doc__',\n",
       " '__eq__',\n",
       " '__format__',\n",
       " '__ge__',\n",
       " '__getattribute__',\n",
       " '__getitem__',\n",
       " '__getnewargs__',\n",
       " '__getstate__',\n",
       " '__gt__',\n",
       " '__hash__',\n",
       " '__init__',\n",
       " '__init_subclass__',\n",
       " '__iter__',\n",
       " '__le__',\n",
       " '__len__',\n",
       " '__lt__',\n",
       " '__mul__',\n",
       " '__ne__',\n",
       " '__new__',\n",
       " '__reduce__',\n",
       " '__reduce_ex__',\n",
       " '__repr__',\n",
       " '__rmul__',\n",
       " '__setattr__',\n",
       " '__sizeof__',\n",
       " '__str__',\n",
       " '__subclasshook__',\n",
       " 'count',\n",
       " 'index']"
      ]
     },
     "execution_count": 9,
     "metadata": {},
     "output_type": "execute_result"
    }
   ],
   "source": [
    "dir(tuple)"
   ]
  },
  {
   "cell_type": "code",
   "execution_count": 11,
   "metadata": {},
   "outputs": [
    {
     "name": "stdout",
     "output_type": "stream",
     "text": [
      "Welcome ['a', 'b', 'c'] sn/o ['a', 'b', 'cf']\n",
      "Welcome ['a', 'b', 'c'] sn/o ['a', 'b', 'cf']\n",
      "Welcome ['a', 'b', 'c'] sn/o ['a', 'b', 'cf']\n"
     ]
    }
   ],
   "source": [
    "names : list[str] = [\"a\",\"b\",\"c\"]\n",
    "fnames : list[str] = [\"a\",\"b\",\"cf\"]\n",
    "\n",
    "list(zip(names,fnames))\n",
    "\n",
    "for name,fn in zip(names,fnames):\n",
    "    print(f\"Welcome {names} sn/o {fnames}\")\n"
   ]
  },
  {
   "cell_type": "markdown",
   "metadata": {},
   "source": [
    "# While loop\n",
    "```\n",
    "while logic:#true/false\n",
    "    loop_body\n",
    "```"
   ]
  },
  {
   "cell_type": "code",
   "execution_count": 12,
   "metadata": {},
   "outputs": [
    {
     "name": "stdout",
     "output_type": "stream",
     "text": [
      "current number is :1\n",
      "current number is :2\n",
      "current number is :3\n",
      "current number is :4\n",
      "current number is :5\n",
      "current number is :6\n",
      "current number is :7\n",
      "current number is :8\n",
      "current number is :9\n"
     ]
    }
   ],
   "source": [
    "flag : bool = True\n",
    "\n",
    "current_num : int = 1\n",
    "\n",
    "while flag:\n",
    "    print(f\"current number is :{current_num}\")\n",
    "    current_num += 1\n",
    "\n",
    "    if current_num == 10:\n",
    "        break"
   ]
  },
  {
   "cell_type": "code",
   "execution_count": 16,
   "metadata": {},
   "outputs": [
    {
     "name": "stdout",
     "output_type": "stream",
     "text": [
      "current number is :0 and value is 100\n",
      "current number is :1 and value is 200\n",
      "current number is :2 and value is 300\n"
     ]
    }
   ],
   "source": [
    "l1 : list[int] = [100,200,300]\n",
    "\n",
    "index : int = 0\n",
    "\n",
    "while index < len(l1):\n",
    "    print(f\"current number is :{index} and value is {l1[index]}\")\n",
    "    index += 1\n",
    "\n",
    "    if index == 10:\n",
    "        break"
   ]
  },
  {
   "cell_type": "code",
   "execution_count": 1,
   "metadata": {},
   "outputs": [
    {
     "name": "stdout",
     "output_type": "stream",
     "text": [
      "write quit or exit to stop this program\n",
      "write quit or exit to stop this program\n"
     ]
    },
    {
     "data": {
      "text/plain": [
       "[{'name': {'Rafi'}, 'education': {'phd'}}]"
      ]
     },
     "metadata": {},
     "output_type": "display_data"
    }
   ],
   "source": [
    "data : list[dict[str,str]] = []\n",
    "\n",
    "flag : bool = True\n",
    "\n",
    "while flag:\n",
    "    print(\"write quit or exit to stop this program\")\n",
    "    name : str = input(\"Your Good Name ? \\t:\")\n",
    "    education : str = input(\"Your last education ? \\t:\")\n",
    "\n",
    "    if name in [\"exit\",\"close\",\"stop\"] or education in [\"exit\",\"close\",\"stop\"]:\n",
    "        flag = False\n",
    "        break\n",
    "    data.append({\n",
    "        \"name\":{name},\n",
    "        \"education\":{education}\n",
    "    })\n",
    "display(data)"
   ]
  },
  {
   "cell_type": "markdown",
   "metadata": {},
   "source": [
    "# controls\n",
    "\n",
    "* break\n",
    "* continue\n",
    "    * skip\n",
    "* pass"
   ]
  },
  {
   "cell_type": "code",
   "execution_count": 2,
   "metadata": {},
   "outputs": [
    {
     "name": "stdout",
     "output_type": "stream",
     "text": [
      "1\n",
      "2\n",
      "3\n",
      "4\n",
      "5\n"
     ]
    }
   ],
   "source": [
    "for i in range(1,11):\n",
    "    print(i)\n",
    "    if i == 5:\n",
    "        break"
   ]
  },
  {
   "cell_type": "markdown",
   "metadata": {},
   "source": [
    "* continue"
   ]
  },
  {
   "cell_type": "code",
   "execution_count": 3,
   "metadata": {},
   "outputs": [
    {
     "name": "stdout",
     "output_type": "stream",
     "text": [
      "1\n",
      "2\n",
      "3\n",
      "4\n",
      "6\n",
      "7\n",
      "8\n",
      "9\n",
      "10\n"
     ]
    }
   ],
   "source": [
    "for i in range(1,11):\n",
    "    if i == 5:\n",
    "        continue   #skip 5\n",
    "    print(i) "
   ]
  },
  {
   "cell_type": "markdown",
   "metadata": {},
   "source": [
    "* pass"
   ]
  },
  {
   "cell_type": "code",
   "execution_count": 5,
   "metadata": {},
   "outputs": [
    {
     "ename": "SyntaxError",
     "evalue": "incomplete input (1593395653.py, line 1)",
     "output_type": "error",
     "traceback": [
      "\u001b[1;36m  Cell \u001b[1;32mIn[5], line 1\u001b[1;36m\u001b[0m\n\u001b[1;33m    for i in range(1,11):\u001b[0m\n\u001b[1;37m                          ^\u001b[0m\n\u001b[1;31mSyntaxError\u001b[0m\u001b[1;31m:\u001b[0m incomplete input\n"
     ]
    }
   ],
   "source": [
    "for i in range(1,11): #here error see below example "
   ]
  },
  {
   "cell_type": "code",
   "execution_count": 6,
   "metadata": {},
   "outputs": [],
   "source": [
    "for i in range(1,11): \n",
    "    pass #use for avoiding error"
   ]
  }
 ],
 "metadata": {
  "kernelspec": {
   "display_name": "python12",
   "language": "python",
   "name": "python3"
  },
  "language_info": {
   "codemirror_mode": {
    "name": "ipython",
    "version": 3
   },
   "file_extension": ".py",
   "mimetype": "text/x-python",
   "name": "python",
   "nbconvert_exporter": "python",
   "pygments_lexer": "ipython3",
   "version": "3.12.0"
  }
 },
 "nbformat": 4,
 "nbformat_minor": 2
}
